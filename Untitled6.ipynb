{
  "nbformat": 4,
  "nbformat_minor": 0,
  "metadata": {
    "colab": {
      "provenance": [],
      "authorship_tag": "ABX9TyN+EQPHnCOUBzTPfw/rlYxg",
      "include_colab_link": true
    },
    "kernelspec": {
      "name": "python3",
      "display_name": "Python 3"
    },
    "language_info": {
      "name": "python"
    }
  },
  "cells": [
    {
      "cell_type": "markdown",
      "metadata": {
        "id": "view-in-github",
        "colab_type": "text"
      },
      "source": [
        "<a href=\"https://colab.research.google.com/github/dxzwhite10/JujunMunawar_2306148_P6/blob/main/Untitled6.ipynb\" target=\"_parent\"><img src=\"https://colab.research.google.com/assets/colab-badge.svg\" alt=\"Open In Colab\"/></a>"
      ]
    },
    {
      "cell_type": "code",
      "source": [
        "!pip install experta\n"
      ],
      "metadata": {
        "colab": {
          "base_uri": "https://localhost:8080/"
        },
        "id": "6WVHcHziqevq",
        "outputId": "32fe8405-296a-4af8-ee03-4b0f7ddf47a9"
      },
      "execution_count": null,
      "outputs": [
        {
          "output_type": "stream",
          "name": "stdout",
          "text": [
            "Collecting experta\n",
            "  Downloading experta-1.9.4-py3-none-any.whl.metadata (5.0 kB)\n",
            "Collecting frozendict==1.2 (from experta)\n",
            "  Downloading frozendict-1.2.tar.gz (2.6 kB)\n",
            "  Preparing metadata (setup.py) ... \u001b[?25l\u001b[?25hdone\n",
            "Collecting schema==0.6.7 (from experta)\n",
            "  Downloading schema-0.6.7-py2.py3-none-any.whl.metadata (14 kB)\n",
            "Downloading experta-1.9.4-py3-none-any.whl (35 kB)\n",
            "Downloading schema-0.6.7-py2.py3-none-any.whl (14 kB)\n",
            "Building wheels for collected packages: frozendict\n",
            "  Building wheel for frozendict (setup.py) ... \u001b[?25l\u001b[?25hdone\n",
            "  Created wheel for frozendict: filename=frozendict-1.2-py3-none-any.whl size=3149 sha256=0b6cb29ecf3b86967acb669230afdefe5cf953531c043348b759204dfac534d8\n",
            "  Stored in directory: /root/.cache/pip/wheels/49/ac/f8/cb8120244e710bdb479c86198b03c7b08c3c2d3d2bf448fd6e\n",
            "Successfully built frozendict\n",
            "Installing collected packages: schema, frozendict, experta\n",
            "  Attempting uninstall: frozendict\n",
            "    Found existing installation: frozendict 2.4.6\n",
            "    Uninstalling frozendict-2.4.6:\n",
            "      Successfully uninstalled frozendict-2.4.6\n",
            "\u001b[31mERROR: pip's dependency resolver does not currently take into account all the packages that are installed. This behaviour is the source of the following dependency conflicts.\n",
            "yfinance 0.2.55 requires frozendict>=2.3.4, but you have frozendict 1.2 which is incompatible.\u001b[0m\u001b[31m\n",
            "\u001b[0mSuccessfully installed experta-1.9.4 frozendict-1.2 schema-0.6.7\n"
          ]
        }
      ]
    },
    {
      "cell_type": "code",
      "source": [
        "!pip install --upgrade frozendict"
      ],
      "metadata": {
        "colab": {
          "base_uri": "https://localhost:8080/"
        },
        "id": "gSNv5bSTrDzC",
        "outputId": "7dd0a8e5-4f68-49b4-d408-baf66d37dccc"
      },
      "execution_count": null,
      "outputs": [
        {
          "output_type": "stream",
          "name": "stdout",
          "text": [
            "Requirement already satisfied: frozendict in /usr/local/lib/python3.11/dist-packages (1.2)\n",
            "Collecting frozendict\n",
            "  Downloading frozendict-2.4.6-py311-none-any.whl.metadata (23 kB)\n",
            "Downloading frozendict-2.4.6-py311-none-any.whl (16 kB)\n",
            "Installing collected packages: frozendict\n",
            "  Attempting uninstall: frozendict\n",
            "    Found existing installation: frozendict 1.2\n",
            "    Uninstalling frozendict-1.2:\n",
            "      Successfully uninstalled frozendict-1.2\n",
            "\u001b[31mERROR: pip's dependency resolver does not currently take into account all the packages that are installed. This behaviour is the source of the following dependency conflicts.\n",
            "experta 1.9.4 requires frozendict==1.2, but you have frozendict 2.4.6 which is incompatible.\u001b[0m\u001b[31m\n",
            "\u001b[0mSuccessfully installed frozendict-2.4.6\n"
          ]
        }
      ]
    },
    {
      "cell_type": "code",
      "execution_count": 10,
      "metadata": {
        "id": "TrJFPQ7wp5ji",
        "colab": {
          "base_uri": "https://localhost:8080/"
        },
        "outputId": "72295e69-17e3-4f7d-bad6-4bd0fafd279c"
      },
      "outputs": [
        {
          "name": "stdout",
          "output_type": "stream",
          "text": [
            "Apakah Anda mengalami batuk? (ya/tidak): ya\n",
            "Apakah Anda mengalami sakit tenggorokan? (ya/tidak): tidak\n",
            "Apakah Anda mengalami nyeri otot? (ya/tidak): ya\n",
            "Apakah Anda mengalami sakit kepala? (ya/tidak): tidak\n",
            "Apakah Anda merasa mual? (ya/tidak): ya\n",
            "Apakah Anda mengalami demam? (ya/tidak): tidak\n"
          ]
        }
      ],
      "source": [
        "from experta import *\n",
        "\n",
        "class SistemPakarMedis(KnowledgeEngine):\n",
        "\n",
        "    @DefFacts()\n",
        "    def _initial_action(self):\n",
        "        yield Fact(action=\"diagnosa\")\n",
        "\n",
        "    @Rule(Fact(action='diagnosa'), NOT(Fact(demam=W())), salience=1)\n",
        "    def tanya_demam(self):\n",
        "        self.declare(Fact(demam=self.ask_question(\"Apakah Anda mengalami demam? (ya/tidak): \")))\n",
        "\n",
        "    @Rule(Fact(action='diagnosa'), NOT(Fact(batuk=W())), salience=1)\n",
        "    def tanya_batuk(self):\n",
        "        self.declare(Fact(batuk=self.ask_question(\"Apakah Anda mengalami batuk? (ya/tidak): \")))\n",
        "\n",
        "    @Rule(Fact(action='diagnosa'), NOT(Fact(sakit_tenggorokan=W())), salience=1)\n",
        "    def tanya_tenggorokan(self):\n",
        "        self.declare(Fact(sakit_tenggorokan=self.ask_question(\"Apakah Anda mengalami sakit tenggorokan? (ya/tidak): \")))\n",
        "\n",
        "    @Rule(Fact(action='diagnosa'), NOT(Fact(sakit_kepala=W())), salience=1)\n",
        "    def tanya_kepala(self):\n",
        "        self.declare(Fact(sakit_kepala=self.ask_question(\"Apakah Anda mengalami sakit kepala? (ya/tidak): \")))\n",
        "\n",
        "    @Rule(Fact(action='diagnosa'), NOT(Fact(nyeri_otot=W())), salience=1)\n",
        "    def tanya_nyeri_otot(self):\n",
        "        self.declare(Fact(nyeri_otot=self.ask_question(\"Apakah Anda mengalami nyeri otot? (ya/tidak): \")))\n",
        "\n",
        "    @Rule(Fact(action='diagnosa'), NOT(Fact(mual=W())), salience=1)\n",
        "    def tanya_mual(self):\n",
        "        self.declare(Fact(mual=self.ask_question(\"Apakah Anda merasa mual? (ya/tidak): \")))\n",
        "\n",
        "    # ===================== DIAGNOSIS PENYAKIT =====================\n",
        "\n",
        "    @Rule(Fact(demam='ya') & Fact(batuk='ya') & Fact(sakit_tenggorokan='ya'))\n",
        "    def flu(self):\n",
        "        print(\"\\nDiagnosis: Anda kemungkinan terkena **Flu**.\")\n",
        "\n",
        "    @Rule(Fact(demam='ya') & Fact(sakit_tenggorokan='ya') & Fact(sakit_kepala='ya'))\n",
        "    def radang_tenggorokan(self):\n",
        "        print(\"\\nDiagnosis: Anda terkena **Radang Tenggorokan**.\")\n",
        "\n",
        "    @Rule(Fact(demam='ya') & Fact(nyeri_otot='ya') & Fact(sakit_kepala='ya'))\n",
        "    def demam_berdarah(self):\n",
        "        print(\"\\nDiagnosis: Anda mungkin terkena **Demam Berdarah**.\")\n",
        "\n",
        "    @Rule(Fact(mual='ya') & Fact(demam='ya') & Fact(sakit_kepala='ya'))\n",
        "    def tipes(self):\n",
        "        print(\"\\nDiagnosis: Kemungkinan Anda mengalami **Tipes**.\")\n",
        "\n",
        "    @Rule(Fact(demam='ya') & Fact(batuk='ya') & Fact(sakit_tenggorokan='ya') & Fact(nyeri_otot='ya'))\n",
        "    def covid(self):\n",
        "        print(\"\\nDiagnosis: Anda mungkin terinfeksi **Covid-19**. Segera periksa ke fasilitas kesehatan terdekat.\")\n",
        "\n",
        "    @Rule(Fact(sakit_kepala='ya') & Fact(mual='ya'))\n",
        "    def migrain(self):\n",
        "        print(\"\\nDiagnosis: Anda kemungkinan mengalami **Migrain**.\")\n",
        "\n",
        "    def ask_question(self, prompt):\n",
        "        while True:\n",
        "            jawab = input(prompt).strip().lower()\n",
        "            if jawab in ['ya', 'tidak']:\n",
        "                return jawab\n",
        "            print(\"Jawaban hanya boleh 'ya' atau 'tidak'.\")\n",
        "\n",
        "\n",
        "# ===================== Menjalankan sistem pakar =====================\n",
        "if __name__ == \"__main__\":\n",
        "    engine = SistemPakarMedis()\n",
        "    engine.reset()\n",
        "    engine.run()\n"
      ]
    }
  ]
}